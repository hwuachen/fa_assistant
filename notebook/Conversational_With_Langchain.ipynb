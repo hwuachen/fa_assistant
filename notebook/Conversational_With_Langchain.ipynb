{
  "nbformat": 4,
  "nbformat_minor": 0,
  "metadata": {
    "colab": {
      "provenance": [],
      "authorship_tag": "ABX9TyOT0dBP7Fhpr3W16xfV/mce",
      "include_colab_link": true
    },
    "kernelspec": {
      "name": "python3",
      "display_name": "Python 3"
    },
    "language_info": {
      "name": "python"
    }
  },
  "cells": [
    {
      "cell_type": "markdown",
      "metadata": {
        "id": "view-in-github",
        "colab_type": "text"
      },
      "source": [
        "<a href=\"https://colab.research.google.com/github/hwuachen/fa_assistant/blob/main/notebook/Conversational_With_Langchain.ipynb\" target=\"_parent\"><img src=\"https://colab.research.google.com/assets/colab-badge.svg\" alt=\"Open In Colab\"/></a>"
      ]
    },
    {
      "cell_type": "code",
      "source": [
        "!pip install -qU \\\n",
        "\"python-dotenv\" \\\n",
        "\"langchain\" \\\n",
        "\"openai\" \\\n",
        "\"google-api-python-client\" \\\n",
        "\"google-search-results\" \\\n",
        "\"youtube-transcript-api\" \\\n",
        "\"chromadb\" \\\n",
        "\"tiktoken\" \\\n",
        "\"faiss-cpu\" \\\n",
        "\"wikipedia\""
      ],
      "metadata": {
        "id": "Fkb7TabMcWtW"
      },
      "execution_count": null,
      "outputs": []
    },
    {
      "cell_type": "code",
      "source": [
        "# --------------------------------------------------------------\n",
        "# Import Modules\n",
        "# --------------------------------------------------------------\n",
        "\n",
        "import os\n",
        "import json\n",
        "import openai\n",
        "from datetime import datetime, timedelta\n",
        "from dotenv import load_dotenv\n",
        "from langchain.chat_models import ChatOpenAI\n",
        "from langchain.schema import HumanMessage, AIMessage, ChatMessage\n",
        "\n",
        "\n",
        "# --------------------------------------------------------------\n",
        "# Load OpenAI API Token From the .env File\n",
        "# --------------------------------------------------------------\n",
        "\n",
        "# load_dotenv()\n",
        "# openai.api_key = os.getenv(\"OPENAI_API_KEY\")\n",
        "from getpass import getpass\n",
        "openai.api_key = getpass()"
      ],
      "metadata": {
        "colab": {
          "base_uri": "https://localhost:8080/"
        },
        "id": "_8FLa3MVdARH",
        "outputId": "3b342d26-548e-4202-e6b6-302949bd835e"
      },
      "execution_count": 32,
      "outputs": [
        {
          "name": "stdout",
          "output_type": "stream",
          "text": [
            "··········\n"
          ]
        }
      ]
    },
    {
      "cell_type": "code",
      "source": [
        "OPENAI_API_KEY = openai.api_key"
      ],
      "metadata": {
        "id": "a5lRBbMqkieI"
      },
      "execution_count": null,
      "outputs": []
    },
    {
      "cell_type": "code",
      "source": [
        "# --------------------------------------------------------------\n",
        "# Ask ChatGPT a Question\n",
        "# --------------------------------------------------------------\n",
        "\n",
        "completion = openai.ChatCompletion.create(\n",
        "    model=\"gpt-3.5-turbo-0613\",\n",
        "    messages=[\n",
        "        {\n",
        "            \"role\": \"user\",\n",
        "            \"content\": \"When's the next flight from Amsterdam to New York?\",\n",
        "        },\n",
        "    ],\n",
        ")\n",
        "\n",
        "output = completion.choices[0].message.content\n",
        "print(output)\n",
        "\n",
        "# --------------------------------------------------------------\n",
        "# Use OpenAI’s Function Calling Feature\n",
        "# --------------------------------------------------------------\n",
        "\n",
        "function_descriptions = [\n",
        "    {\n",
        "        \"name\": \"get_flight_info\",\n",
        "        \"description\": \"Get flight information between two locations\",\n",
        "        \"parameters\": {\n",
        "            \"type\": \"object\",\n",
        "            \"properties\": {\n",
        "                \"loc_origin\": {\n",
        "                    \"type\": \"string\",\n",
        "                    \"description\": \"The departure airport, e.g. DUS\",\n",
        "                },\n",
        "                \"loc_destination\": {\n",
        "                    \"type\": \"string\",\n",
        "                    \"description\": \"The destination airport, e.g. HAM\",\n",
        "                },\n",
        "            },\n",
        "            \"required\": [\"loc_origin\", \"loc_destination\"],\n",
        "        },\n",
        "    }\n",
        "]\n",
        "\n",
        "user_prompt = \"When's the next flight from Amsterdam to New York?\"\n",
        "\n",
        "completion = openai.ChatCompletion.create(\n",
        "    model=\"gpt-3.5-turbo-0613\",\n",
        "    messages=[{\"role\": \"user\", \"content\": user_prompt}],\n",
        "    # Add function calling\n",
        "    functions=function_descriptions,\n",
        "    function_call=\"auto\",  # specify the function call\n",
        ")\n",
        "\n",
        "# It automatically fills the arguments with correct info based on the prompt\n",
        "# Note: the function does not exist yet\n",
        "\n",
        "output = completion.choices[0].message\n",
        "print(output)"
      ],
      "metadata": {
        "id": "VDeUKEbbdVqm"
      },
      "execution_count": null,
      "outputs": []
    },
    {
      "cell_type": "code",
      "source": [
        "# It automatically fills the arguments with correct info based on the prompt\n",
        "# Note: the function does not exist yet\n",
        "\n",
        "output = completion.choices[0].message\n",
        "print(output)\n",
        "\n",
        "# --------------------------------------------------------------\n",
        "# Add a Function\n",
        "# --------------------------------------------------------------\n",
        "\n",
        "\n",
        "def get_flight_info(loc_origin, loc_destination):\n",
        "    \"\"\"Get flight information between two locations.\"\"\"\n",
        "\n",
        "    # Example output returned from an API or database\n",
        "    print(\"get_flight_info is called\")\n",
        "    flight_info = {\n",
        "        \"loc_origin\": loc_origin,\n",
        "        \"loc_destination\": loc_destination,\n",
        "        \"datetime\": str(datetime.now() + timedelta(hours=2)),\n",
        "        \"airline\": \"KLM\",\n",
        "        \"flight\": \"KL643\",\n",
        "    }\n",
        "\n",
        "    return json.dumps(flight_info)\n",
        "\n",
        "\n",
        "# Use the LLM output to manually call the function\n",
        "# The json.loads function converts the string to a Python object\n",
        "\n",
        "origin = json.loads(output.function_call.arguments).get(\"loc_origin\")\n",
        "destination = json.loads(output.function_call.arguments).get(\"loc_destination\")\n",
        "params = json.loads(output.function_call.arguments)\n",
        "type(params)\n",
        "\n",
        "print(origin)\n",
        "print(destination)\n",
        "print(params)\n",
        "\n",
        "# Call the function with arguments\n",
        "\n",
        "chosen_function = eval(output.function_call.name)\n",
        "flight = chosen_function(**params)\n",
        "\n",
        "print(flight)"
      ],
      "metadata": {
        "id": "MR-2-SaghA3S"
      },
      "execution_count": null,
      "outputs": []
    },
    {
      "cell_type": "code",
      "source": [
        "# --------------------------------------------------------------\n",
        "# Add function result to the prompt for a final answer\n",
        "# --------------------------------------------------------------\n",
        "\n",
        "# The key is to add the function output back to the messages with role: function\n",
        "second_completion = openai.ChatCompletion.create(\n",
        "    model=\"gpt-3.5-turbo-0613\",\n",
        "    messages=[\n",
        "        {\"role\": \"user\", \"content\": user_prompt},\n",
        "        {\"role\": \"function\", \"name\": output.function_call.name, \"content\": flight},\n",
        "    ],\n",
        "    functions=function_descriptions,\n",
        ")\n",
        "response = second_completion.choices[0].message.content\n",
        "print(response)"
      ],
      "metadata": {
        "id": "W01QcU_piFu5"
      },
      "execution_count": null,
      "outputs": []
    },
    {
      "cell_type": "code",
      "source": [
        "# --------------------------------------------------------------\n",
        "# Include Multiple Functions\n",
        "# --------------------------------------------------------------\n",
        "\n",
        "# Expand on function descriptions (3 functions)\n",
        "\n",
        "function_descriptions_multiple = [\n",
        "    {\n",
        "        \"name\": \"get_flight_info\",\n",
        "        \"description\": \"Get flight information between two locations\",\n",
        "        \"parameters\": {\n",
        "            \"type\": \"object\",\n",
        "            \"properties\": {\n",
        "                \"loc_origin\": {\n",
        "                    \"type\": \"string\",\n",
        "                    \"description\": \"The departure airport, e.g. DUS\",\n",
        "                },\n",
        "                \"loc_destination\": {\n",
        "                    \"type\": \"string\",\n",
        "                    \"description\": \"The destination airport, e.g. HAM\",\n",
        "                },\n",
        "            },\n",
        "            \"required\": [\"loc_origin\", \"loc_destination\"],\n",
        "        },\n",
        "    },\n",
        "    {\n",
        "        \"name\": \"book_flight\",\n",
        "        \"description\": \"Book a flight based on flight information\",\n",
        "        \"parameters\": {\n",
        "            \"type\": \"object\",\n",
        "            \"properties\": {\n",
        "                \"loc_origin\": {\n",
        "                    \"type\": \"string\",\n",
        "                    \"description\": \"The departure airport, e.g. DUS\",\n",
        "                },\n",
        "                \"loc_destination\": {\n",
        "                    \"type\": \"string\",\n",
        "                    \"description\": \"The destination airport, e.g. HAM\",\n",
        "                },\n",
        "                \"datetime\": {\n",
        "                    \"type\": \"string\",\n",
        "                    \"description\": \"The date and time of the flight, e.g. 2023-01-01 01:01\",\n",
        "                },\n",
        "                \"airline\": {\n",
        "                    \"type\": \"string\",\n",
        "                    \"description\": \"The service airline, e.g. Lufthansa\",\n",
        "                },\n",
        "            },\n",
        "            \"required\": [\"loc_origin\", \"loc_destination\", \"datetime\", \"airline\"],\n",
        "        },\n",
        "    },\n",
        "    {\n",
        "        \"name\": \"file_complaint\",\n",
        "        \"description\": \"File a complaint as a customer\",\n",
        "        \"parameters\": {\n",
        "            \"type\": \"object\",\n",
        "            \"properties\": {\n",
        "                \"name\": {\n",
        "                    \"type\": \"string\",\n",
        "                    \"description\": \"The name of the user, e.g. John Doe\",\n",
        "                },\n",
        "                \"email\": {\n",
        "                    \"type\": \"string\",\n",
        "                    \"description\": \"The email address of the user, e.g. john@doe.com\",\n",
        "                },\n",
        "                \"text\": {\n",
        "                    \"type\": \"string\",\n",
        "                    \"description\": \"Description of issue\",\n",
        "                },\n",
        "            },\n",
        "            \"required\": [\"name\", \"email\", \"text\"],\n",
        "        },\n",
        "    },\n",
        "]\n",
        "\n",
        "print(function_descriptions_multiple)"
      ],
      "metadata": {
        "id": "0fxU8MishsAt"
      },
      "execution_count": null,
      "outputs": []
    },
    {
      "cell_type": "code",
      "source": [
        "def ask_and_reply(prompt):\n",
        "    \"\"\"Give LLM a given prompt and get an answer.\"\"\"\n",
        "\n",
        "    completion = openai.ChatCompletion.create(\n",
        "        model=\"gpt-3.5-turbo-0613\",\n",
        "        messages=[{\"role\": \"user\", \"content\": prompt}],\n",
        "        # add function calling\n",
        "        functions=function_descriptions_multiple,\n",
        "        function_call=\"auto\",  # specify the function call\n",
        "    )\n",
        "\n",
        "    output = completion.choices[0].message\n",
        "    return output\n"
      ],
      "metadata": {
        "id": "Hwg5hF8ujX3o"
      },
      "execution_count": null,
      "outputs": []
    },
    {
      "cell_type": "code",
      "source": [
        "# Scenario 1: Check flight details\n",
        "\n",
        "user_prompt = \"When's the next flight from Amsterdam to New York?\"\n",
        "print(ask_and_reply(user_prompt))\n",
        "\n",
        "# Get info for the next prompt\n",
        "\n",
        "origin = json.loads(output.function_call.arguments).get(\"loc_origin\")\n",
        "destination = json.loads(output.function_call.arguments).get(\"loc_destination\")\n",
        "chosen_function = eval(output.function_call.name)\n",
        "flight = chosen_function(origin, destination)\n",
        "\n",
        "print(origin)\n",
        "print(destination)\n",
        "print(flight)\n",
        "\n",
        "flight_datetime = json.loads(flight).get(\"datetime\")\n",
        "flight_airline = json.loads(flight).get(\"airline\")\n",
        "\n",
        "print(flight_datetime)\n",
        "print(flight_airline)"
      ],
      "metadata": {
        "id": "hyTGEXBPjswc"
      },
      "execution_count": null,
      "outputs": []
    },
    {
      "cell_type": "code",
      "source": [
        "# Scenario 2: Book a new flight\n",
        "\n",
        "user_prompt = f\"I want to book a flight from {origin} to {destination} on {flight_datetime} with {flight_airline}\"\n",
        "print(ask_and_reply(user_prompt))"
      ],
      "metadata": {
        "colab": {
          "base_uri": "https://localhost:8080/"
        },
        "id": "VpAuPRQUjmOp",
        "outputId": "978c8b0a-923b-4803-85b7-4c32d8e6ba58"
      },
      "execution_count": 28,
      "outputs": [
        {
          "output_type": "stream",
          "name": "stdout",
          "text": [
            "{\n",
            "  \"role\": \"assistant\",\n",
            "  \"content\": null,\n",
            "  \"function_call\": {\n",
            "    \"name\": \"book_flight\",\n",
            "    \"arguments\": \"{\\n  \\\"loc_origin\\\": \\\"AMS\\\",\\n  \\\"loc_destination\\\": \\\"NYC\\\",\\n  \\\"datetime\\\": \\\"2023-07-10 04:09:46.910310\\\",\\n  \\\"airline\\\": \\\"KLM\\\"\\n}\"\n",
            "  }\n",
            "}\n"
          ]
        }
      ]
    },
    {
      "cell_type": "code",
      "source": [
        "# Scenario 3: File a complaint\n",
        "\n",
        "user_prompt = \"This is John Doe. I want to file a complaint about my missed flight. It was an unpleasant surprise. Email me a copy of the complaint to john@doe.com.\"\n",
        "print(ask_and_reply(user_prompt))"
      ],
      "metadata": {
        "colab": {
          "base_uri": "https://localhost:8080/"
        },
        "id": "Ry7-i5dCkL9m",
        "outputId": "b34d587b-9e6b-4baa-a8bc-4730d3c88d1b"
      },
      "execution_count": 29,
      "outputs": [
        {
          "output_type": "stream",
          "name": "stdout",
          "text": [
            "{\n",
            "  \"role\": \"assistant\",\n",
            "  \"content\": null,\n",
            "  \"function_call\": {\n",
            "    \"name\": \"file_complaint\",\n",
            "    \"arguments\": \"{\\n  \\\"name\\\": \\\"John Doe\\\",\\n  \\\"email\\\": \\\"john@doe.com\\\",\\n  \\\"text\\\": \\\"I would like to file a complaint about my missed flight. It was a very unpleasant surprise and caused a lot of inconvenience. I would appreciate it if you could investigate the matter and provide a solution. Thank you.\\\"\\n}\"\n",
            "  }\n",
            "}\n"
          ]
        }
      ]
    },
    {
      "cell_type": "code",
      "source": [
        "# --------------------------------------------------------------\n",
        "# Make It Conversational With Langchain\n",
        "# --------------------------------------------------------------\n",
        "\n",
        "llm = ChatOpenAI(model=\"gpt-3.5-turbo-0613\", temperature=0)\n",
        "\n",
        "# Start a conversation with multiple requests\n",
        "\n",
        "user_prompt = \"\"\"\n",
        "This is Jane Harris. I am an unhappy customer that wants you to do several things.\n",
        "First, I neeed to know when's the next flight from Amsterdam to New York.\n",
        "Please proceed to book that flight for me.\n",
        "Also, I want to file a complaint about my missed flight. It was an unpleasant surprise.\n",
        "Email me a copy of the complaint to jane@harris.com.\n",
        "Please give me a confirmation after all of these are done.\n",
        "\"\"\"\n",
        "\n",
        "# Returns the function of the first request (get_flight_info)\n",
        "\n",
        "first_response = llm.predict_messages(\n",
        "    [HumanMessage(content=user_prompt)], functions=function_descriptions_multiple\n",
        ")\n",
        "\n",
        "print(first_response)\n",
        "\n",
        "# Returns the function of the second request (book_flight)\n",
        "# It takes all the arguments from the prompt but not the returned information\n",
        "\n",
        "second_response = llm.predict_messages(\n",
        "    [\n",
        "        HumanMessage(content=user_prompt),\n",
        "        AIMessage(content=str(first_response.additional_kwargs)),\n",
        "        AIMessage(\n",
        "            role=\"function\",\n",
        "            additional_kwargs={\n",
        "                \"name\": first_response.additional_kwargs[\"function_call\"][\"name\"]\n",
        "            },\n",
        "            content=f\"Completed function {first_response.additional_kwargs['function_call']['name']}\",\n",
        "        ),\n",
        "    ],\n",
        "    functions=function_descriptions_multiple,\n",
        ")\n",
        "\n",
        "print(second_response)\n",
        "\n",
        "# Returns the function of the third request (file_complaint)\n",
        "\n",
        "third_response = llm.predict_messages(\n",
        "    [\n",
        "        HumanMessage(content=user_prompt),\n",
        "        AIMessage(content=str(first_response.additional_kwargs)),\n",
        "        AIMessage(content=str(second_response.additional_kwargs)),\n",
        "        AIMessage(\n",
        "            role=\"function\",\n",
        "            additional_kwargs={\n",
        "                \"name\": second_response.additional_kwargs[\"function_call\"][\"name\"]\n",
        "            },\n",
        "            content=f\"Completed function {second_response.additional_kwargs['function_call']['name']}\",\n",
        "        ),\n",
        "    ],\n",
        "    functions=function_descriptions_multiple,\n",
        ")\n",
        "\n",
        "print(third_response)\n",
        "\n",
        "# Conversational reply at the end of requests\n",
        "\n",
        "fourth_response = llm.predict_messages(\n",
        "    [\n",
        "        HumanMessage(content=user_prompt),\n",
        "        AIMessage(content=str(first_response.additional_kwargs)),\n",
        "        AIMessage(content=str(second_response.additional_kwargs)),\n",
        "        AIMessage(content=str(third_response.additional_kwargs)),\n",
        "        AIMessage(\n",
        "            role=\"function\",\n",
        "            additional_kwargs={\n",
        "                \"name\": third_response.additional_kwargs[\"function_call\"][\"name\"]\n",
        "            },\n",
        "            content=f\"Completed function {third_response.additional_kwargs['function_call']['name']}\",\n",
        "        ),\n",
        "    ],\n",
        "    functions=function_descriptions_multiple,\n",
        ")\n",
        "\n",
        "print(fourth_response)"
      ],
      "metadata": {
        "id": "VV7i-bq1-o0d"
      },
      "execution_count": null,
      "outputs": []
    }
  ]
}