{
  "nbformat": 4,
  "nbformat_minor": 0,
  "metadata": {
    "colab": {
      "provenance": [],
      "mount_file_id": "1vxP2-VWheeou16uauWazsWCk3T67aioc",
      "authorship_tag": "ABX9TyMYXNTirtp/yO4VWQiDYRPi",
      "include_colab_link": true
    },
    "kernelspec": {
      "name": "python3",
      "display_name": "Python 3"
    },
    "language_info": {
      "name": "python"
    }
  },
  "cells": [
    {
      "cell_type": "markdown",
      "metadata": {
        "id": "view-in-github",
        "colab_type": "text"
      },
      "source": [
        "<a href=\"https://colab.research.google.com/github/hwuachen/fa_assistant/blob/main/notebook/OpenAI_Function_Calling_DB_Career.ipynb\" target=\"_parent\"><img src=\"https://colab.research.google.com/assets/colab-badge.svg\" alt=\"Open In Colab\"/></a>"
      ]
    },
    {
      "cell_type": "markdown",
      "source": [
        "# OpenAI Function Calling\n"
      ],
      "metadata": {
        "id": "NESIk0TjDABj"
      }
    },
    {
      "cell_type": "markdown",
      "source": [
        "## Setup"
      ],
      "metadata": {
        "id": "vYYr195_DyGg"
      }
    },
    {
      "cell_type": "code",
      "execution_count": null,
      "metadata": {
        "id": "LUbfLRaaC-bb"
      },
      "outputs": [],
      "source": [
        "# mount drive\n",
        "from google.colab import drive\n",
        "drive.mount('/content/drive/')\n",
        "!pip install -r \"/content/drive/MyDrive/Colab Notebooks/fa_assistant/requirements.txt\""
      ]
    },
    {
      "cell_type": "code",
      "source": [
        "\n",
        "!pip install -qU \\\n",
        "  \"openai\" \\\n",
        "  \"diffusers\" \\\n",
        "  \"transformers\" \\\n",
        "  \"accelerate\" \\\n",
        "  \"scipy\" \\\n",
        "  \"safetensors\" \\\n",
        "  \"xformers\"\n"
      ],
      "metadata": {
        "id": "sJR4khGfxZIb"
      },
      "execution_count": null,
      "outputs": []
    },
    {
      "cell_type": "code",
      "source": [
        "import os, config, requests\n",
        "import gradio as gr\n",
        "import pandas as pd\n",
        "import numpy as np\n",
        "from openai.embeddings_utils import get_embedding, cosine_similarity\n",
        "import openai"
      ],
      "metadata": {
        "id": "QS5-ADRsHJIO"
      },
      "execution_count": null,
      "outputs": []
    },
    {
      "cell_type": "markdown",
      "source": [
        "# Config"
      ],
      "metadata": {
        "id": "ish4xGzcPio9"
      }
    },
    {
      "cell_type": "code",
      "source": [
        "LLM_COMPLETION_MODEL = \"gpt-3.5-turbo-0613\"\n",
        "from getpass import getpass\n",
        "# openai.api_key = config.OPENAI_API_KEY\n",
        "openai.api_key = getpass()"
      ],
      "metadata": {
        "id": "2LQn9Sz2PlDX"
      },
      "execution_count": null,
      "outputs": []
    },
    {
      "cell_type": "markdown",
      "source": [
        "# DB Career Search Criteria - https://careers.db.com/professionals/search-roles/#/professional/results/"
      ],
      "metadata": {
        "id": "z1iJXZstbnkJ"
      }
    },
    {
      "cell_type": "code",
      "source": [
        "import json\n",
        "import pandas as pd\n",
        "\n",
        "def load_lookup_table(tablename):\n",
        "  # Specify the file path\n",
        "  file_path = f\"{tablename}.json\"\n",
        "  print(file_path)\n",
        "\n",
        "  # Open the file and load the JSON data\n",
        "  with open(file_path, 'r') as file:\n",
        "    data = json.load(file)\n",
        "\n",
        "  # Parse JSON: string -> json data\n",
        "  # data = json.loads(json_data)\n",
        "\n",
        "  # Extract items\n",
        "  items = data['lookup']['items']\n",
        "\n",
        "  # Create a data frame\n",
        "  df = pd.DataFrame(items)\n",
        "\n",
        "  # # Rename columns\n",
        "  # df.rename(columns={'id': 'ID', 'label': 'Label'}, inplace=True)\n",
        "  return df\n",
        "\n",
        "# Access the JSON data\n",
        "# Example: printing the loaded JSON data\n",
        "# df = load_lookup_table(\"career_level\")\n",
        "# print(df)\n",
        "\n",
        "\n",
        "# Extract Label values to string\n",
        "def extract_label_values_tostring(tablename):\n",
        "  df = load_lookup_table(tablename)\n",
        "  label_string = ', '.join(item for item in df['label'])\n",
        "  return (label_string)\n",
        "\n",
        "# Access all the label string\n",
        "# Example: printing all the label string\n",
        "# career_levels = extract_label_values_tostring(\"career_level\")\n",
        "# print(career_levels)\n",
        "\n",
        "# Access a list of all citys\n",
        "citynames = load_lookup_table(\"cityname\")['label'].tolist()\n",
        "print(citynames)\n",
        "\n",
        "# Access a list of all career_levels\n",
        "career_levels = load_lookup_table(\"career_level\")['label'].tolist()\n",
        "print(career_levels)\n"
      ],
      "metadata": {
        "id": "068MeDpCcNAB"
      },
      "execution_count": null,
      "outputs": []
    },
    {
      "cell_type": "code",
      "source": [
        "def get_city_code(city):\n",
        "  df = load_lookup_table(\"cityname\")\n",
        "  citycode = df.loc[df['label'] == city].values[0]\n",
        "  return citycode[0]\n",
        "\n",
        "# example\n",
        "print(get_city_code(\"New York\"))\n",
        "\n",
        "def get_position_schedule_code(career_level):\n",
        "  df = load_lookup_table(\"career_level\")\n",
        "  code = df.loc[df['label'] == career_level].values[0]\n",
        "  return code[0]\n",
        "\n",
        "# example\n",
        "print(get_position_schedule_code(\"Analyst\"))"
      ],
      "metadata": {
        "id": "KpVLRrsdmtnG"
      },
      "execution_count": null,
      "outputs": []
    },
    {
      "cell_type": "code",
      "source": [
        "# --------------------------------------------------------------\n",
        "#  DB Career API call Function, and wrap it as search_job_deutschebank\n",
        "# --------------------------------------------------------------\n",
        "\n",
        "import requests\n",
        "import json\n",
        "import pandas as pd\n",
        "\n",
        "def search_job_deutschebank_call_api(career_level, cityname):\n",
        "    citycode = get_city_code(cityname)\n",
        "    positioncode = get_position_schedule_code(career_level)\n",
        "    print(f'citycode = {citycode} positioncode = {positioncode} ')\n",
        "\n",
        "    # API endpoint\n",
        "    api_url = \"https://api-deutschebank.beesite.de/search/\"\n",
        "\n",
        "    # Request payload\n",
        "    payload = {\n",
        "        \"LanguageCode\": \"en\",\n",
        "        \"SearchParameters\": {\n",
        "            \"FirstItem\": 1,\n",
        "            \"CountItem\": 10000,\n",
        "            \"MatchedObjectDescriptor\": [\n",
        "                \"Facet:ProfessionCategory\",\n",
        "                \"Facet:UserArea.ProDivision\",\n",
        "                \"Facet:Profession\",\n",
        "                \"Facet:PositionLocation.CountrySubDivision\",\n",
        "                \"Facet:PositionOfferingType.Code\",\n",
        "                \"Facet:PositionSchedule.Code\",\n",
        "                \"Facet:PositionLocation.City\",\n",
        "                \"Facet:PositionLocation.Country\",\n",
        "                \"Facet:JobCategory.Code\",\n",
        "                \"Facet:CareerLevel.Code\",\n",
        "                \"Facet:PositionHiringYear\",\n",
        "                \"Facet:PositionFormattedDescription.Content\",\n",
        "                \"PositionID\",\n",
        "                \"PositionTitle\",\n",
        "                \"PositionURI\",\n",
        "                \"ScoreThreshold\",\n",
        "                \"OrganizationName\",\n",
        "                \"PositionFormattedDescription.Content\",\n",
        "                \"PositionLocation.CountryName\",\n",
        "                \"PositionLocation.CountrySubDivisionName\",\n",
        "                \"PositionLocation.CityName\",\n",
        "                \"PositionLocation.Longitude\",\n",
        "                \"PositionLocation.Latitude\",\n",
        "                \"PositionIndustry.Name\",\n",
        "                \"JobCategory.Name\",\n",
        "                \"CareerLevel.Name\",\n",
        "                \"PositionSchedule.Name\",\n",
        "                \"PositionOfferingType.Name\",\n",
        "                \"PublicationStartDate\",\n",
        "                \"UserArea.GradEduInstCountry\",\n",
        "                \"PositionImport\",\n",
        "                \"PositionHiringYear\",\n",
        "                \"PositionID\"\n",
        "            ],\n",
        "            \"Sort\": [\n",
        "                {\n",
        "                    \"Criterion\": \"PublicationStartDate\",\n",
        "                    \"Direction\": \"DESC\"\n",
        "                }\n",
        "            ]\n",
        "        },\n",
        "        \"SearchCriteria\": [\n",
        "            {\n",
        "                \"CriterionName\": \"PositionLocation.City\",\n",
        "                \"CriterionValue\": citycode\n",
        "            },\n",
        "            {\n",
        "                \"CriterionName\": \"PositionSchedule.Code\",\n",
        "                \"CriterionValue\": positioncode\n",
        "            },\n",
        "            {\n",
        "                \"CriterionName\": \"PositionFormattedDescription.Content\"\n",
        "            },\n",
        "            None,\n",
        "            None\n",
        "        ]\n",
        "    }\n",
        "\n",
        "    # Convert payload to JSON string\n",
        "    payload_json = json.dumps(payload)\n",
        "\n",
        "    # Make API call\n",
        "    response = requests.get(api_url, params={\"data\": payload_json})\n",
        "\n",
        "    # Check if the request was successful\n",
        "    if response.status_code == 200:\n",
        "        # Extract and return the response JSON\n",
        "        response_json = response.json()\n",
        "        return response_json\n",
        "    else:\n",
        "        # Request was not successful, handle the error\n",
        "        print(\"Error:\", response.status_code)\n",
        "        return None\n",
        "\n",
        "# example\n",
        "# response_json = search_job_deutschebank_call_api(career_level = \"Analyst\", city=\"New York\")\n",
        "# filtered_df = df_reponse['MatchedObjectDescriptor.PositionTitle'].str.contains(\"Analyst\")\n",
        "# df = pd.json_normalize(response_json['SearchResult']['SearchResultItems'])\n",
        "# df.loc[0]['MatchedObjectDescriptor.CareerLevel'][0]['Name']"
      ],
      "metadata": {
        "id": "9J8T3Pt5sQsU"
      },
      "execution_count": null,
      "outputs": []
    },
    {
      "cell_type": "markdown",
      "source": [
        "## DB Search"
      ],
      "metadata": {
        "id": "Fowbf6dsX9i8"
      }
    },
    {
      "cell_type": "code",
      "source": [
        "def search_job_deutschebank(career_level: str, cityname: str) -> str:\n",
        "  \"\"\"Searches for job positions at Deutsche Bank based on the specified career level and city name.\n",
        "\n",
        "    Args:\n",
        "        career_level (str): The desired career level for the job search.\n",
        "        cityname (str): The name of the city where the job search is to be performed.\n",
        "\n",
        "    Returns:\n",
        "        str: A JSON string containing the details of the job positions that match the specified career level\n",
        "        and city name. The JSON structure includes the matched object ID, position title, organization name,\n",
        "        and URL for each job position.\n",
        "  \"\"\"\n",
        "\n",
        "  print(\"search_job_deutschebank is called\")\n",
        "  response_json = search_job_deutschebank_call_api(career_level, cityname)\n",
        "\n",
        "  # Convert JSON to DataFrame\n",
        "  df = pd.json_normalize(response_json['SearchResult']['SearchResultItems'])\n",
        "\n",
        "  df['inscope'] = 'N'\n",
        "  df['url'] = ''\n",
        "  for index, row in df.iterrows():\n",
        "    df['url'][index] =  \"https://careers.db.com/professionals/search-roles/#/professional/job/\" + df['MatchedObjectId'][index]\n",
        "    # if (\"Vice President\" in df['MatchedObjectDescriptor.CareerLevel'][index][0]['Name']):\n",
        "    if (\"Analyst\" in df['MatchedObjectDescriptor.CareerLevel'][index][0]['Name']):\n",
        "      print(df['MatchedObjectDescriptor.CareerLevel'][index][0]['Name'])\n",
        "      df['inscope'][index] ='Y'\n",
        "\n",
        "  result = df.loc[df['inscope'] == 'Y']\n",
        "  df_result = result[['MatchedObjectId','MatchedObjectDescriptor.PositionTitle', 'MatchedObjectDescriptor.OrganizationName', 'url']]\n",
        "  df_result1 = df_result.rename(columns={\"MatchedObjectId\": \"jobId\", \"MatchedObjectDescriptor.PositionTitle\": \"PositionTitle\", \\\n",
        "                            'MatchedObjectDescriptor.OrganizationName':\"OrganizationName\"})\n",
        "\n",
        "  json_data = df_result1.to_json(orient='records')\n",
        "  return json.dumps(json_data)\n",
        "\n",
        "# example\n",
        "result = search_job_deutschebank('Analyst', 'New York')\n",
        "result\n"
      ],
      "metadata": {
        "id": "aOalJ_YypVXJ",
        "colab": {
          "base_uri": "https://localhost:8080/",
          "height": 497
        },
        "outputId": "584801e8-c072-465c-c0b4-5e9b1f69ed2a"
      },
      "execution_count": 84,
      "outputs": [
        {
          "output_type": "stream",
          "name": "stdout",
          "text": [
            "search_job_deutschebank is called\n",
            "cityname.json\n",
            "career_level.json\n",
            "citycode = 135 positioncode = 1 \n",
            "Analyst\n",
            "Analyst\n",
            "Analyst\n",
            "Analyst\n",
            "Analyst\n"
          ]
        },
        {
          "output_type": "stream",
          "name": "stderr",
          "text": [
            "<ipython-input-84-292008997db6>:23: SettingWithCopyWarning: \n",
            "A value is trying to be set on a copy of a slice from a DataFrame\n",
            "\n",
            "See the caveats in the documentation: https://pandas.pydata.org/pandas-docs/stable/user_guide/indexing.html#returning-a-view-versus-a-copy\n",
            "  df['url'][index] =  \"https://careers.db.com/professionals/search-roles/#/professional/job/\" + df['MatchedObjectId'][index]\n",
            "<ipython-input-84-292008997db6>:27: SettingWithCopyWarning: \n",
            "A value is trying to be set on a copy of a slice from a DataFrame\n",
            "\n",
            "See the caveats in the documentation: https://pandas.pydata.org/pandas-docs/stable/user_guide/indexing.html#returning-a-view-versus-a-copy\n",
            "  df['inscope'][index] ='Y'\n"
          ]
        },
        {
          "output_type": "execute_result",
          "data": {
            "text/plain": [
              "'\"[{\\\\\"jobId\\\\\":\\\\\"44551\\\\\",\\\\\"PositionTitle\\\\\":\\\\\"Transaction Coordinator - Analyst\\\\\",\\\\\"OrganizationName\\\\\":\\\\\"New York\\\\\",\\\\\"url\\\\\":\\\\\"https:\\\\\\\\/\\\\\\\\/careers.db.com\\\\\\\\/professionals\\\\\\\\/search-roles\\\\\\\\/#\\\\\\\\/professional\\\\\\\\/job\\\\\\\\/44551\\\\\"},{\\\\\"jobId\\\\\":\\\\\"44136\\\\\",\\\\\"PositionTitle\\\\\":\\\\\"Capital Markets Specialist - ETF\\\\\",\\\\\"OrganizationName\\\\\":\\\\\"New York\\\\\",\\\\\"url\\\\\":\\\\\"https:\\\\\\\\/\\\\\\\\/careers.db.com\\\\\\\\/professionals\\\\\\\\/search-roles\\\\\\\\/#\\\\\\\\/professional\\\\\\\\/job\\\\\\\\/44136\\\\\"},{\\\\\"jobId\\\\\":\\\\\"43528\\\\\",\\\\\"PositionTitle\\\\\":\\\\\"Investment Grade Trader\\\\\",\\\\\"OrganizationName\\\\\":\\\\\"New York\\\\\",\\\\\"url\\\\\":\\\\\"https:\\\\\\\\/\\\\\\\\/careers.db.com\\\\\\\\/professionals\\\\\\\\/search-roles\\\\\\\\/#\\\\\\\\/professional\\\\\\\\/job\\\\\\\\/43528\\\\\"},{\\\\\"jobId\\\\\":\\\\\"42320\\\\\",\\\\\"PositionTitle\\\\\":\\\\\"Reward &amp; Recognition Analyst\\\\\",\\\\\"OrganizationName\\\\\":\\\\\"New York\\\\\",\\\\\"url\\\\\":\\\\\"https:\\\\\\\\/\\\\\\\\/careers.db.com\\\\\\\\/professionals\\\\\\\\/search-roles\\\\\\\\/#\\\\\\\\/professional\\\\\\\\/job\\\\\\\\/42320\\\\\"},{\\\\\"jobId\\\\\":\\\\\"36547\\\\\",\\\\\"PositionTitle\\\\\":\\\\\"Portfolio Analyst\\\\\",\\\\\"OrganizationName\\\\\":\\\\\"New York\\\\\",\\\\\"url\\\\\":\\\\\"https:\\\\\\\\/\\\\\\\\/careers.db.com\\\\\\\\/professionals\\\\\\\\/search-roles\\\\\\\\/#\\\\\\\\/professional\\\\\\\\/job\\\\\\\\/36547\\\\\"}]\"'"
            ],
            "application/vnd.google.colaboratory.intrinsic+json": {
              "type": "string"
            }
          },
          "metadata": {},
          "execution_count": 84
        }
      ]
    },
    {
      "cell_type": "markdown",
      "source": [
        "# OpenAI"
      ],
      "metadata": {
        "id": "56OjtgMdPZn_"
      }
    },
    {
      "cell_type": "code",
      "source": [
        "# --------------------------------------------------------------\n",
        "# Ask ChatGPT a Question\n",
        "# --------------------------------------------------------------\n",
        "\n",
        "completion = openai.ChatCompletion.create(\n",
        "    model=LLM_COMPLETION_MODEL,\n",
        "    messages=[\n",
        "        {\n",
        "            \"role\": \"user\",\n",
        "            \"content\": \"I am looking for Analyst job in Deutsche Bank. Is there avaialble Analyst position in New York?\",\n",
        "        },\n",
        "    ],\n",
        ")\n",
        "output = completion.choices[0].message.content\n",
        "print(output)\n",
        "\n",
        "# output:\n",
        "# I'm sorry, but as an AI language model, I don't have access to real-time job listings or information regarding specific job vacancies at Deutsche Bank. I recommend visiting the Deutsche Bank careers website or utilizing other job search platforms to check for available positions in New York.\n",
        "\n"
      ],
      "metadata": {
        "id": "QHnaeWBM9SwB",
        "colab": {
          "base_uri": "https://localhost:8080/"
        },
        "outputId": "cb8d0f86-0988-4086-d19a-91c71ff531a3"
      },
      "execution_count": 85,
      "outputs": [
        {
          "output_type": "stream",
          "name": "stdout",
          "text": [
            "I'm sorry, but as an AI language model, I don't have real-time access to job listings or current openings. However, Deutsche Bank does have a presence in New York, so it's possible that there might be available Analyst positions. I would recommend visiting the Deutsche Bank careers website or other job search platforms to find the most up-to-date information on job openings in New York.\n"
          ]
        }
      ]
    },
    {
      "cell_type": "code",
      "source": [
        "# --------------------------------------------------------------\n",
        "# Use OpenAI’s Function Calling Feature\n",
        "# --------------------------------------------------------------\n",
        "\n",
        "function_descriptions = [\n",
        "    {\n",
        "        \"name\": \"search_job_deutschebank\",\n",
        "        \"description\": \"Find job position at Deutschebank\",\n",
        "        \"parameters\": {\n",
        "            \"type\": \"object\",\n",
        "            \"properties\": {\n",
        "                \"career_level\": {\n",
        "                    \"type\": \"string\",\n",
        "                    \"description\": \"The career level of the job, e.g. Analyst, Associate, Director ,Vice President\",\n",
        "                },\n",
        "                \"cityname\": {\n",
        "                    \"type\": \"string\",\n",
        "                    \"description\": \"The city where the job is located, e.g. New York, London, Sydney, Mumbai\",\n",
        "                },\n",
        "            },\n",
        "            \"required\": [\"career_level\", \"cityname\"],\n",
        "        },\n",
        "    }\n",
        "]"
      ],
      "metadata": {
        "id": "LO4vTZqm-Vom"
      },
      "execution_count": 86,
      "outputs": []
    },
    {
      "cell_type": "code",
      "source": [
        "user_prompt = \"I am looking for Analyst job in Deutsche Bank. Is there avaialble Analyst position in Cary?\"\n",
        "\n",
        "completion = openai.ChatCompletion.create(\n",
        "    model=\"gpt-3.5-turbo-0613\",\n",
        "    messages=[{\"role\": \"user\", \"content\": user_prompt}],\n",
        "    # Add function calling\n",
        "    functions=function_descriptions,\n",
        "    function_call=\"auto\",  # specify the function call\n",
        ")\n",
        "\n",
        "# It automatically fills the arguments with correct info based on the prompt\n",
        "# Note: the function does not exist yet\n",
        "\n",
        "output = completion.choices[0].message\n",
        "print(output)\n"
      ],
      "metadata": {
        "id": "7tQ1moYwZg0n",
        "colab": {
          "base_uri": "https://localhost:8080/"
        },
        "outputId": "32ba8030-b804-4501-95ed-dc806d9a4523"
      },
      "execution_count": 87,
      "outputs": [
        {
          "output_type": "stream",
          "name": "stdout",
          "text": [
            "{\n",
            "  \"role\": \"assistant\",\n",
            "  \"content\": null,\n",
            "  \"function_call\": {\n",
            "    \"name\": \"search_job_deutschebank\",\n",
            "    \"arguments\": \"{\\n  \\\"career_level\\\": \\\"Analyst\\\",\\n  \\\"cityname\\\": \\\"Cary\\\"\\n}\"\n",
            "  }\n",
            "}\n"
          ]
        }
      ]
    },
    {
      "cell_type": "code",
      "source": [
        "completion.choices"
      ],
      "metadata": {
        "id": "CaHkG1Y_2faf",
        "outputId": "50da345d-3dcd-422d-aeda-9da84d333bd9",
        "colab": {
          "base_uri": "https://localhost:8080/"
        }
      },
      "execution_count": 88,
      "outputs": [
        {
          "output_type": "execute_result",
          "data": {
            "text/plain": [
              "[<OpenAIObject at 0x7f74fca94950> JSON: {\n",
              "   \"index\": 0,\n",
              "   \"message\": {\n",
              "     \"role\": \"assistant\",\n",
              "     \"content\": null,\n",
              "     \"function_call\": {\n",
              "       \"name\": \"search_job_deutschebank\",\n",
              "       \"arguments\": \"{\\n  \\\"career_level\\\": \\\"Analyst\\\",\\n  \\\"cityname\\\": \\\"Cary\\\"\\n}\"\n",
              "     }\n",
              "   },\n",
              "   \"finish_reason\": \"function_call\"\n",
              " }]"
            ]
          },
          "metadata": {},
          "execution_count": 88
        }
      ]
    },
    {
      "cell_type": "code",
      "source": [
        "output = completion.choices[0].message\n",
        "print(output)"
      ],
      "metadata": {
        "id": "UyVIjulKqN9W",
        "colab": {
          "base_uri": "https://localhost:8080/"
        },
        "outputId": "d64de16c-949e-4818-efbb-d9c793617764"
      },
      "execution_count": 89,
      "outputs": [
        {
          "output_type": "stream",
          "name": "stdout",
          "text": [
            "{\n",
            "  \"role\": \"assistant\",\n",
            "  \"content\": null,\n",
            "  \"function_call\": {\n",
            "    \"name\": \"search_job_deutschebank\",\n",
            "    \"arguments\": \"{\\n  \\\"career_level\\\": \\\"Analyst\\\",\\n  \\\"cityname\\\": \\\"Cary\\\"\\n}\"\n",
            "  }\n",
            "}\n"
          ]
        }
      ]
    },
    {
      "cell_type": "code",
      "source": [
        "# Use the LLM output to convert llm unstructure text to structure param, then call the function\n",
        "# The json.loads function converts the string to a Python object\n",
        "\n",
        "career_level = json.loads(output.function_call.arguments).get(\"career_level\")\n",
        "cityname = json.loads(output.function_call.arguments).get(\"cityname\")\n",
        "params = json.loads(output.function_call.arguments)\n",
        "type(params)\n",
        "\n",
        "print(career_level)\n",
        "print(cityname)\n",
        "print(params)\n",
        "\n",
        "# Call the function with arguments\n",
        "\n",
        "chosen_function = eval(output.function_call.name)\n",
        "print(f\"chosen_function = {chosen_function}\")\n",
        "\n",
        "jobs = chosen_function(**params)\n",
        "print(jobs)"
      ],
      "metadata": {
        "id": "jSCMYx2mlZUi",
        "colab": {
          "base_uri": "https://localhost:8080/"
        },
        "outputId": "7403e00d-22f1-4b3e-dfd3-82b3bf36ffd5"
      },
      "execution_count": 90,
      "outputs": [
        {
          "output_type": "stream",
          "name": "stdout",
          "text": [
            "Analyst\n",
            "Cary\n",
            "{'career_level': 'Analyst', 'cityname': 'Cary'}\n",
            "chosen_function = <function search_job_deutschebank at 0x7f74fc82b1c0>\n",
            "search_job_deutschebank is called\n",
            "cityname.json\n",
            "career_level.json\n",
            "citycode = 119 positioncode = 1 \n",
            "Analyst\n",
            "Analyst\n",
            "\"[{\\\"jobId\\\":\\\"39696\\\",\\\"PositionTitle\\\":\\\"Java Developer - Analyst\\\",\\\"OrganizationName\\\":\\\"Cary\\\",\\\"url\\\":\\\"https:\\\\/\\\\/careers.db.com\\\\/professionals\\\\/search-roles\\\\/#\\\\/professional\\\\/job\\\\/39696\\\"},{\\\"jobId\\\":\\\"39724\\\",\\\"PositionTitle\\\":\\\"Java Engineer - Analyst\\\",\\\"OrganizationName\\\":\\\"Cary\\\",\\\"url\\\":\\\"https:\\\\/\\\\/careers.db.com\\\\/professionals\\\\/search-roles\\\\/#\\\\/professional\\\\/job\\\\/39724\\\"}]\"\n"
          ]
        },
        {
          "output_type": "stream",
          "name": "stderr",
          "text": [
            "<ipython-input-84-292008997db6>:23: SettingWithCopyWarning: \n",
            "A value is trying to be set on a copy of a slice from a DataFrame\n",
            "\n",
            "See the caveats in the documentation: https://pandas.pydata.org/pandas-docs/stable/user_guide/indexing.html#returning-a-view-versus-a-copy\n",
            "  df['url'][index] =  \"https://careers.db.com/professionals/search-roles/#/professional/job/\" + df['MatchedObjectId'][index]\n",
            "<ipython-input-84-292008997db6>:27: SettingWithCopyWarning: \n",
            "A value is trying to be set on a copy of a slice from a DataFrame\n",
            "\n",
            "See the caveats in the documentation: https://pandas.pydata.org/pandas-docs/stable/user_guide/indexing.html#returning-a-view-versus-a-copy\n",
            "  df['inscope'][index] ='Y'\n"
          ]
        }
      ]
    },
    {
      "cell_type": "code",
      "source": [
        "jobs"
      ],
      "metadata": {
        "colab": {
          "base_uri": "https://localhost:8080/",
          "height": 91
        },
        "id": "mY_o38_utoTe",
        "outputId": "19be1e61-184d-4252-ebb7-a239f4f7052b"
      },
      "execution_count": 91,
      "outputs": [
        {
          "output_type": "execute_result",
          "data": {
            "text/plain": [
              "'\"[{\\\\\"jobId\\\\\":\\\\\"39696\\\\\",\\\\\"PositionTitle\\\\\":\\\\\"Java Developer - Analyst\\\\\",\\\\\"OrganizationName\\\\\":\\\\\"Cary\\\\\",\\\\\"url\\\\\":\\\\\"https:\\\\\\\\/\\\\\\\\/careers.db.com\\\\\\\\/professionals\\\\\\\\/search-roles\\\\\\\\/#\\\\\\\\/professional\\\\\\\\/job\\\\\\\\/39696\\\\\"},{\\\\\"jobId\\\\\":\\\\\"39724\\\\\",\\\\\"PositionTitle\\\\\":\\\\\"Java Engineer - Analyst\\\\\",\\\\\"OrganizationName\\\\\":\\\\\"Cary\\\\\",\\\\\"url\\\\\":\\\\\"https:\\\\\\\\/\\\\\\\\/careers.db.com\\\\\\\\/professionals\\\\\\\\/search-roles\\\\\\\\/#\\\\\\\\/professional\\\\\\\\/job\\\\\\\\/39724\\\\\"}]\"'"
            ],
            "application/vnd.google.colaboratory.intrinsic+json": {
              "type": "string"
            }
          },
          "metadata": {},
          "execution_count": 91
        }
      ]
    },
    {
      "cell_type": "code",
      "source": [
        "# --------------------------------------------------------------\n",
        "# Add function result to the prompt for a final answer\n",
        "# --------------------------------------------------------------\n",
        "\n",
        "# The key is to add the function output back to the messages with role: function\n",
        "second_completion = openai.ChatCompletion.create(\n",
        "    model=\"gpt-3.5-turbo-0613\",\n",
        "    messages=[\n",
        "        {\"role\": \"user\", \"content\": user_prompt},\n",
        "        {\"role\": \"function\", \"name\": output.function_call.name, \"content\": jobs},\n",
        "    ],\n",
        "    functions=function_descriptions,\n",
        ")\n",
        "response = second_completion.choices[0].message.content\n",
        "print(response)"
      ],
      "metadata": {
        "id": "VwaKoxyFtEl3",
        "colab": {
          "base_uri": "https://localhost:8080/"
        },
        "outputId": "5142c900-52b8-4781-c159-8251e00ef1a2"
      },
      "execution_count": 92,
      "outputs": [
        {
          "output_type": "stream",
          "name": "stdout",
          "text": [
            "Yes, there are Analyst positions available in Cary at Deutsche Bank. Here are two positions that you can consider:\n",
            "\n",
            "1. Position: Java Developer - Analyst\n",
            "   Location: Cary\n",
            "   [Link to job posting](https://careers.db.com/professionals/search-roles/#/professional/job/39696)\n",
            "\n",
            "2. Position: Java Engineer - Analyst\n",
            "   Location: Cary\n",
            "   [Link to job posting](https://careers.db.com/professionals/search-roles/#/professional/job/39724)\n",
            "\n",
            "You can visit the respective job links for more information and to apply for the positions.\n"
          ]
        }
      ]
    },
    {
      "cell_type": "markdown",
      "source": [
        "# using agent"
      ],
      "metadata": {
        "id": "lUa3ld8-idqz"
      }
    },
    {
      "cell_type": "code",
      "source": [
        "import inspect\n",
        "import re\n",
        "\n",
        "\n",
        "def type_mapping(dtype):\n",
        "    if dtype == float:\n",
        "        return \"number\"\n",
        "    elif dtype == int:\n",
        "        return \"integer\"\n",
        "    elif dtype == str:\n",
        "        return \"string\"\n",
        "    else:\n",
        "        return \"string\"\n",
        "\n",
        "\n",
        "def extract_params(doc_str: str):\n",
        "    # parse the docstring to get the descriptions for each parameter in dict format\n",
        "    params_str = doc_str.split(\"\\n\\n\")[1].split(\"\\n\")\n",
        "    params = {}\n",
        "    for line in params_str:\n",
        "        param_match = re.findall(r'(?<=:param )\\w+(?=:)', line)\n",
        "        if param_match != []:\n",
        "            param_name = param_match[0]\n",
        "            desc_match = line.replace(f\":param {param_name}:\", \"\").strip()\n",
        "            params[param_name] = desc_match\n",
        "    return params\n",
        "\n",
        "\n",
        "def func_to_json(func):\n",
        "    # first we get function name\n",
        "    func_name = func.__name__\n",
        "    # then we get the function annotations\n",
        "    argspec = inspect.getfullargspec(func)\n",
        "    # get the function docstring\n",
        "    func_doc = inspect.getdoc(func)\n",
        "    # parse the docstring to get the description\n",
        "    func_description = func_doc.split(\"\\n\\n\")[0]\n",
        "    print (func_description)\n",
        "\n",
        "    # get params\n",
        "    params = argspec.annotations\n",
        "    if 'return' in params.keys():\n",
        "        del params['return']\n",
        "    # parse the docstring to get the descriptions for each parameter in dict format\n",
        "    param_details = extract_params(func_doc)\n",
        "    # attach parameter types to params\n",
        "    print(params)\n",
        "    print(param_details)\n",
        "    for param_name in argspec.args:\n",
        "        params[param_name] = {\n",
        "            \"description\": param_details.get(param_name) or \"\",\n",
        "            \"type\": type_mapping(argspec.annotations[param_name])\n",
        "        }\n",
        "    # calculate required parameters\n",
        "    _required = argspec.args\n",
        "    if inspect.getfullargspec(func).defaults:\n",
        "        _required = [argspec.args[i] for i, a in enumerate(argspec.args) if\n",
        "                     i + 1 not in inspect.getfullargspec(func).defaults]\n",
        "    # then return everything in dict\n",
        "    return {\n",
        "        \"name\": func_name,\n",
        "        \"description\": func_description,\n",
        "        \"parameters\": {\n",
        "            \"type\": \"object\",\n",
        "            \"properties\": params\n",
        "        },\n",
        "        \"required\": _required\n",
        "    }\n"
      ],
      "metadata": {
        "id": "jbilvcMqg93O"
      },
      "execution_count": null,
      "outputs": []
    },
    {
      "cell_type": "code",
      "source": [
        "import json\n",
        "from typing import Optional\n",
        "# from funkagent import parser\n",
        "# import parser\n",
        "import openai\n",
        "\n",
        "sys_msg = \"\"\"Assistant is a large language model trained by OpenAI.\n",
        "\n",
        "Assistant is designed to be able to assist with a wide range of tasks, from answering simple questions to providing in-depth explanations and discussion on a wide range of topics. As a language model, Assistant is able to generate human-like text based on the input it receives, allowing it to engage in natural-sounding conversations and provide responses that are coherent and relevant to the topic at hand.\n",
        "\n",
        "Assistant is constantly learning and improving, and its capabilities are constantly evolving. It is able to process and understand large amounts of text, and can use this knowledge to provide accurate and informative responses to a wide range of questions. Additionally, Assistant is able to generate its own text based on the input it receives, allowing it to engage in discussions and provide explanations and descriptions on a wide range of topics.\n",
        "\n",
        "Overall, Assistant is a powerful system that can help with a wide range of tasks and provide valuable insights and information on a wide range of topics. Whether you need help with a specific question or just want to have a conversation about a particular topic, Assistant is here to assist.\n",
        "\"\"\"\n",
        "\n",
        "\n",
        "class Agent:\n",
        "    def __init__(\n",
        "        self,\n",
        "        openai_api_key: str,\n",
        "        # model_name: str = 'gpt-4-0613',\n",
        "        model_name: str = 'gpt-3.5-turbo-0613',\n",
        "        functions: Optional[list] = None\n",
        "    ):\n",
        "        openai.api_key = openai_api_key\n",
        "        self.model_name = model_name\n",
        "        self.functions = self._parse_functions(functions)\n",
        "        self.func_mapping = self._create_func_mapping(functions)\n",
        "        self.chat_history = [{'role': 'system', 'content': sys_msg}]\n",
        "\n",
        "    def _parse_functions(self, functions: Optional[list]) -> Optional[list]:\n",
        "        if functions is None:\n",
        "            return None\n",
        "        # return [parser.func_to_json(func) for func in functions]\n",
        "        return [func_to_json(func) for func in functions]\n",
        "\n",
        "    def _create_func_mapping(self, functions: Optional[list]) -> dict:\n",
        "        if functions is None:\n",
        "            return {}\n",
        "        return {func.__name__: func for func in functions}\n",
        "\n",
        "    def _create_chat_completion(\n",
        "        self, messages: list, use_functions: bool=True\n",
        "    ) -> openai.ChatCompletion:\n",
        "        if use_functions and self.functions:\n",
        "            res = openai.ChatCompletion.create(\n",
        "                model=self.model_name,\n",
        "                messages=messages,\n",
        "                functions=self.functions\n",
        "            )\n",
        "        else:\n",
        "            res = openai.ChatCompletion.create(\n",
        "                model=self.model_name,\n",
        "                messages=messages\n",
        "            )\n",
        "        return res\n",
        "\n",
        "    def _generate_response(self) -> openai.ChatCompletion:\n",
        "        while True:\n",
        "            print('.', end='')\n",
        "            res = self._create_chat_completion(\n",
        "                self.chat_history + self.internal_thoughts\n",
        "            )\n",
        "            finish_reason = res.choices[0].finish_reason\n",
        "\n",
        "            if finish_reason == 'stop' or len(self.internal_thoughts) > 3:\n",
        "                # create the final answer\n",
        "                final_thought = self._final_thought_answer()\n",
        "                final_res = self._create_chat_completion(\n",
        "                    self.chat_history + [final_thought],\n",
        "                    use_functions=False\n",
        "                )\n",
        "                return final_res\n",
        "            elif finish_reason == 'function_call':\n",
        "                self._handle_function_call(res)\n",
        "            else:\n",
        "                raise ValueError(f\"Unexpected finish reason: {finish_reason}\")\n",
        "\n",
        "    def _handle_function_call(self, res: openai.ChatCompletion):\n",
        "        self.internal_thoughts.append(res.choices[0].message.to_dict())\n",
        "        func_name = res.choices[0].message.function_call.name\n",
        "        args_str = res.choices[0].message.function_call.arguments\n",
        "        result = self._call_function(func_name, args_str)\n",
        "        res_msg = {'role': 'assistant', 'content': (f\"The answer is {result}.\")}\n",
        "        self.internal_thoughts.append(res_msg)\n",
        "\n",
        "    def _call_function(self, func_name: str, args_str: str):\n",
        "        args = json.loads(args_str)\n",
        "        func = self.func_mapping[func_name]\n",
        "        res = func(**args)\n",
        "        return res\n",
        "\n",
        "    def _final_thought_answer(self):\n",
        "        thoughts = (\"To answer the question I will use these step by step instructions.\"\n",
        "                    \"\\n\\n\")\n",
        "        for thought in self.internal_thoughts:\n",
        "            if 'function_call' in thought.keys():\n",
        "                thoughts += (f\"I will use the {thought['function_call']['name']} \"\n",
        "                             \"function to calculate the answer with arguments \"\n",
        "                             + thought['function_call']['arguments'] + \".\\n\\n\")\n",
        "            else:\n",
        "                thoughts += thought[\"content\"] + \"\\n\\n\"\n",
        "        self.final_thought = {\n",
        "            'role': 'assistant',\n",
        "            'content': (f\"{thoughts} Based on the above, I will now answer the \"\n",
        "                        \"question, this message will only be seen by me so answer with \"\n",
        "                        \"the assumption with that the user has not seen this message.\")\n",
        "        }\n",
        "        return self.final_thought\n",
        "\n",
        "    def ask(self, query: str) -> openai.ChatCompletion:\n",
        "        self.internal_thoughts = []\n",
        "        self.chat_history.append({'role': 'user', 'content': query})\n",
        "        res = self._generate_response()\n",
        "        self.chat_history.append(res.choices[0].message.to_dict())\n",
        "        return res"
      ],
      "metadata": {
        "id": "M73xPuxCSYW7"
      },
      "execution_count": null,
      "outputs": []
    },
    {
      "cell_type": "code",
      "source": [],
      "metadata": {
        "id": "EF1WjZ8Por5d"
      },
      "execution_count": 79,
      "outputs": []
    },
    {
      "cell_type": "code",
      "source": [
        "agent = Agent(\n",
        "    openai_api_key=openai.api_key,\n",
        "    functions=[search_job_deutschebank]\n",
        ")\n"
      ],
      "metadata": {
        "colab": {
          "base_uri": "https://localhost:8080/"
        },
        "id": "3VcueqUgU5zE",
        "outputId": "1d7101d3-b123-4a63-a43a-7b4576caa842"
      },
      "execution_count": 80,
      "outputs": [
        {
          "output_type": "stream",
          "name": "stdout",
          "text": [
            "Searches for job positions at Deutsche Bank based on the specified career level and city name.\n",
            "{'career_level': <class 'str'>, 'cityname': <class 'str'>}\n",
            "{}\n"
          ]
        }
      ]
    },
    {
      "cell_type": "code",
      "source": [
        "agent.functions"
      ],
      "metadata": {
        "id": "vuIaYVI9qmDr"
      },
      "execution_count": null,
      "outputs": []
    },
    {
      "cell_type": "code",
      "source": [
        "user_prompt = \"I am looking for Analyst job in Deutsche Bank. Is there avaialble Analyst position in Cary?\"\n",
        "output = agent.ask(user_prompt)\n",
        "print(output.choices[0].message)"
      ],
      "metadata": {
        "colab": {
          "base_uri": "https://localhost:8080/"
        },
        "id": "yRWZEVZpqw6l",
        "outputId": "be5458e2-b4b1-40f3-a388-285d36ba5732"
      },
      "execution_count": 81,
      "outputs": [
        {
          "output_type": "stream",
          "name": "stdout",
          "text": [
            ".search_job_deutschebank is called\n",
            "cityname.json\n",
            "career_level.json\n",
            "citycode = 119 positioncode = 1 \n"
          ]
        },
        {
          "output_type": "stream",
          "name": "stderr",
          "text": [
            "<ipython-input-78-0a3b2d4b60f1>:23: SettingWithCopyWarning: \n",
            "A value is trying to be set on a copy of a slice from a DataFrame\n",
            "\n",
            "See the caveats in the documentation: https://pandas.pydata.org/pandas-docs/stable/user_guide/indexing.html#returning-a-view-versus-a-copy\n",
            "  df['url'][index] =  \"https://careers.db.com/professionals/search-roles/#/professional/job/\" + df['MatchedObjectId'][index]\n",
            "<ipython-input-78-0a3b2d4b60f1>:27: SettingWithCopyWarning: \n",
            "A value is trying to be set on a copy of a slice from a DataFrame\n",
            "\n",
            "See the caveats in the documentation: https://pandas.pydata.org/pandas-docs/stable/user_guide/indexing.html#returning-a-view-versus-a-copy\n",
            "  df['inscope'][index] ='Y'\n"
          ]
        },
        {
          "output_type": "stream",
          "name": "stdout",
          "text": [
            "Analyst\n",
            "Analyst\n",
            ".{\n",
            "  \"role\": \"assistant\",\n",
            "  \"content\": \"I found two analyst positions at Deutsche Bank in Cary. The positions are for Java Developer - Analyst and Java Engineer - Analyst. You can find more information and apply for these positions on the Deutsche Bank careers website. Here are the links to the job postings:\\n\\n1. Java Developer - Analyst: [Link](https://careers.db.com/professionals/search-roles/#/professional/job/39696)\\n2. Java Engineer - Analyst: [Link](https://careers.db.com/professionals/search-roles/#/professional/job/39724)\\n\\nPlease note that job availability is subject to change, so it's always a good idea to check the careers website for the most up-to-date information. Good luck with your job search!\"\n",
            "}\n"
          ]
        }
      ]
    },
    {
      "cell_type": "code",
      "source": [
        "print(output.choices[0].message)"
      ],
      "metadata": {
        "id": "cLh0J57YshB_"
      },
      "execution_count": null,
      "outputs": []
    },
    {
      "cell_type": "code",
      "source": [
        "agent.chat_history"
      ],
      "metadata": {
        "id": "VLbCtRBVs705"
      },
      "execution_count": null,
      "outputs": []
    },
    {
      "cell_type": "code",
      "source": [
        "user_prompt = \"What is the Deutsche Bank Values & Diversity?\"\n",
        "output = agent.ask(user_prompt)\n",
        "print(output.choices[0].message)"
      ],
      "metadata": {
        "id": "uH1nsPINtHfE"
      },
      "execution_count": null,
      "outputs": []
    },
    {
      "cell_type": "code",
      "source": [
        "user_prompt = \"I am looking for Analyst job in Deutsche Bank in Cary. can you please send me a report in excel format\"\n",
        "output = agent.ask(user_prompt)\n",
        "print(output.choices[0].message)"
      ],
      "metadata": {
        "id": "j8qLk5hPtb-l"
      },
      "execution_count": null,
      "outputs": []
    },
    {
      "cell_type": "code",
      "source": [
        "def search_job_deutschebank(career_level: str, cityname: str) -> str:\n",
        "  \"\"\"Searches for job positions at Deutsche Bank based on the specified career level and city name.\n",
        "\n",
        "    Args:\n",
        "        career_level (str): The desired career level for the job search.\n",
        "        cityname (str): The name of the city where the job search is to be performed.\n",
        "\n",
        "    Returns:\n",
        "        str: A JSON string containing the details of the job positions that match the specified career level\n",
        "        and city name. The JSON structure includes the matched object ID, position title, organization name,\n",
        "        and URL for each job position.\n",
        "  \"\"\"\n",
        "  response_json = search_job_deutschebank_call_api(career_level, cityname)\n",
        "\n",
        "  # Convert JSON to DataFrame\n",
        "  df = pd.json_normalize(response_json['SearchResult']['SearchResultItems'])\n",
        "\n",
        "  df['inscope'] = 'N'\n",
        "  df['url'] = ''\n",
        "  for index, row in df.iterrows():\n",
        "    df['url'][index] =  \"https://careers.db.com/professionals/search-roles/#/professional/job/\" + df['MatchedObjectId'][index]\n",
        "    # if (\"Vice President\" in df['MatchedObjectDescriptor.CareerLevel'][index][0]['Name']):\n",
        "    if (\"Analyst\" in df['MatchedObjectDescriptor.CareerLevel'][index][0]['Name']):\n",
        "      print(df['MatchedObjectDescriptor.CareerLevel'][index][0]['Name'])\n",
        "      df['inscope'][index] ='Y'\n",
        "\n",
        "  result = df.loc[df['inscope'] == 'Y']\n",
        "  df_result = result[['MatchedObjectId','MatchedObjectDescriptor.PositionTitle', 'MatchedObjectDescriptor.OrganizationName', 'url']]\n",
        "  json_data = df_result.to_json(orient='records')\n",
        "  return json.dumps(json_data)"
      ],
      "metadata": {
        "id": "sFv4CgNboppm"
      },
      "execution_count": null,
      "outputs": []
    },
    {
      "cell_type": "code",
      "source": [
        "def submit_job_application(url: str, name: str, email_address: str)-> str:\n",
        "    \"\"\"Submit the job application to the specific url with name and email address\n",
        "\n",
        "    Args:\n",
        "        url (str): The desired job url link for the job submission.\n",
        "        name (str): The name of the user\n",
        "        email_address (str): The email address of the user w\n",
        "\n",
        "    Returns:\n",
        "        str: A JSON string containing the details of the job sumission for the name and email addresss. The JSON structure includes the name, email address and\n",
        "        and URL for each job position.\n",
        "    \"\"\"\n",
        "    print ('submit_job_application is called')\n",
        "    return f\"Submit the job application with {name} and {email_address} at {url}\""
      ],
      "metadata": {
        "id": "iwls6Arc_jK1"
      },
      "execution_count": 98,
      "outputs": []
    },
    {
      "cell_type": "code",
      "source": [
        "agent1 = Agent(\n",
        "    openai_api_key=openai.api_key,\n",
        "    functions=[search_job_deutschebank, submit_job_application]\n",
        ")\n"
      ],
      "metadata": {
        "colab": {
          "base_uri": "https://localhost:8080/"
        },
        "id": "3f0jwrP4vZci",
        "outputId": "025311e1-e171-4777-ae66-78f9f9981ca3"
      },
      "execution_count": 99,
      "outputs": [
        {
          "output_type": "stream",
          "name": "stdout",
          "text": [
            "Searches for job positions at Deutsche Bank based on the specified career level and city name.\n",
            "{'career_level': <class 'str'>, 'cityname': <class 'str'>}\n",
            "{}\n",
            "Submit the job application to the specific url with name and email address\n",
            "{'url': <class 'str'>, 'name': <class 'str'>, 'email_address': <class 'str'>}\n",
            "{}\n"
          ]
        }
      ]
    },
    {
      "cell_type": "code",
      "source": [
        "user_prompt = \"\"\"\n",
        "This is Jane Harris. I am an graduate who want to find job at Deutsche Bank.\n",
        "First, I neeed to know the avaialble Analyst position in Cary\n",
        "Then I want to submit job application to the position you found.\n",
        "Please give me a confirmation after all of these are done.\n",
        "\"\"\""
      ],
      "metadata": {
        "id": "61yQKB_HwsHi"
      },
      "execution_count": 110,
      "outputs": []
    },
    {
      "cell_type": "code",
      "source": [
        "output = agent1.ask(user_prompt)\n",
        "print(output.choices[0].message)"
      ],
      "metadata": {
        "colab": {
          "base_uri": "https://localhost:8080/"
        },
        "id": "X7nf2yz_xbVy",
        "outputId": "0eb1c75a-d915-47c0-f65d-b43c3c27ed4c"
      },
      "execution_count": 111,
      "outputs": [
        {
          "output_type": "stream",
          "name": "stdout",
          "text": [
            ".search_job_deutschebank is called\n",
            "cityname.json\n",
            "career_level.json\n",
            "citycode = 119 positioncode = 1 \n"
          ]
        },
        {
          "output_type": "stream",
          "name": "stderr",
          "text": [
            "<ipython-input-84-292008997db6>:23: SettingWithCopyWarning: \n",
            "A value is trying to be set on a copy of a slice from a DataFrame\n",
            "\n",
            "See the caveats in the documentation: https://pandas.pydata.org/pandas-docs/stable/user_guide/indexing.html#returning-a-view-versus-a-copy\n",
            "  df['url'][index] =  \"https://careers.db.com/professionals/search-roles/#/professional/job/\" + df['MatchedObjectId'][index]\n",
            "<ipython-input-84-292008997db6>:27: SettingWithCopyWarning: \n",
            "A value is trying to be set on a copy of a slice from a DataFrame\n",
            "\n",
            "See the caveats in the documentation: https://pandas.pydata.org/pandas-docs/stable/user_guide/indexing.html#returning-a-view-versus-a-copy\n",
            "  df['inscope'][index] ='Y'\n"
          ]
        },
        {
          "output_type": "stream",
          "name": "stdout",
          "text": [
            "Analyst\n",
            "Analyst\n",
            ".{\n",
            "  \"role\": \"assistant\",\n",
            "  \"content\": \"I have found two available Analyst positions at Deutsche Bank in Cary:\\n\\n1. Java Developer - Analyst: [Link to Job Description](https://careers.db.com/professionals/search-roles/#/professional/job/39696)\\n\\n2. Java Engineer - Analyst: [Link to Job Description](https://careers.db.com/professionals/search-roles/#/professional/job/39724)\\n\\nTo apply for these positions, you can visit the links provided and review the job descriptions. If you find a position that matches your qualifications and interests, you can typically find an \\\"Apply Now\\\" or similar button on the page. Clicking this button will usually take you to an application form where you can input your information, upload your resume, and submit your application.\\n\\nIt's important to review the job requirements and tailor your application accordingly, highlighting relevant skills and experiences that make you a strong fit for the role. After submitting your application, you should receive a confirmation email indicating that your application has been received. \\n\\nPlease note that I am an AI language model and cannot directly confirm your application submission. However, you should receive a confirmation email from Deutsche Bank once your application is submitted successfully. Be sure to check your email and keep an eye on your spam or junk folder, in case the confirmation email gets filtered there.\\n\\nI wish you the best of luck with your job application to Deutsche Bank!\"\n",
            "}\n"
          ]
        }
      ]
    },
    {
      "cell_type": "code",
      "source": [
        "user_prompt = \"\"\"\n",
        "Then I want to submit job application to the position you found.\n",
        "Please give me a confirmation after all of these are done.\n",
        "\"\"\""
      ],
      "metadata": {
        "id": "piGdQXSqxwSy"
      },
      "execution_count": 112,
      "outputs": []
    },
    {
      "cell_type": "code",
      "source": [
        "output = agent1.ask(user_prompt)\n",
        "print(output.choices[0].message)"
      ],
      "metadata": {
        "colab": {
          "base_uri": "https://localhost:8080/"
        },
        "id": "bbnxwbL_xtkg",
        "outputId": "d1e8e17b-bf44-4078-c321-26d324bfeddf"
      },
      "execution_count": 113,
      "outputs": [
        {
          "output_type": "stream",
          "name": "stdout",
          "text": [
            ".submit_job_application is called\n",
            ".{\n",
            "  \"role\": \"assistant\",\n",
            "  \"content\": \"I apologize for any confusion caused. However, as an AI language model, I don't have the capability to directly submit job applications or confirm actions in the physical world. My purpose is to provide information and assistance through text-based conversations.\\n\\nTo apply for the position you found at Deutsche Bank, you should follow the steps outlined on their website or application platform. Typically, you will need to fill out an online application form, providing your personal details, work experience, and any other required information. You may also be asked to upload your resume and cover letter.\\n\\nOnce you have completed and submitted your application, Deutsche Bank should send you a confirmation email to acknowledge receipt of your application. This confirmation email usually contains information about the next steps in the hiring process or a timeline for when you can expect to hear back from them.\\n\\nIf you don't receive a confirmation email within a reasonable timeframe, you can consider reaching out to Deutsche Bank's HR department or the contact provided in the job posting to inquire about the status of your application.\\n\\nPlease note that each company's application process may vary, so it's important to carefully review the instructions provided by Deutsche Bank and follow their specific application process.\\n\\nI wish you success with your job application to Deutsche Bank!\"\n",
            "}\n"
          ]
        }
      ]
    },
    {
      "cell_type": "code",
      "source": [
        "agent1.chat_history"
      ],
      "metadata": {
        "colab": {
          "base_uri": "https://localhost:8080/"
        },
        "id": "jN0kqf1QzbL6",
        "outputId": "89a97b5c-a3a7-4670-ae58-d0f3c1f77fb3"
      },
      "execution_count": 115,
      "outputs": [
        {
          "output_type": "execute_result",
          "data": {
            "text/plain": [
              "[{'role': 'system',\n",
              "  'content': 'Assistant is a large language model trained by OpenAI.\\n\\nAssistant is designed to be able to assist with a wide range of tasks, from answering simple questions to providing in-depth explanations and discussion on a wide range of topics. As a language model, Assistant is able to generate human-like text based on the input it receives, allowing it to engage in natural-sounding conversations and provide responses that are coherent and relevant to the topic at hand.\\n\\nAssistant is constantly learning and improving, and its capabilities are constantly evolving. It is able to process and understand large amounts of text, and can use this knowledge to provide accurate and informative responses to a wide range of questions. Additionally, Assistant is able to generate its own text based on the input it receives, allowing it to engage in discussions and provide explanations and descriptions on a wide range of topics.\\n\\nOverall, Assistant is a powerful system that can help with a wide range of tasks and provide valuable insights and information on a wide range of topics. Whether you need help with a specific question or just want to have a conversation about a particular topic, Assistant is here to assist.\\n'},\n",
              " {'role': 'user',\n",
              "  'content': '\\nThen I want to submit job application to the position you found. \\nPlease give me a confirmation after all of these are done.\\n'},\n",
              " {'role': 'assistant',\n",
              "  'content': 'I apologize for any confusion, but as an AI language model, I don\\'t have the capability to directly submit job applications or confirm actions in the physical world. I can provide guidance and suggestions on how to approach the application process, but it will ultimately be up to you to follow through with the necessary steps.\\n\\nIf you have found a position you are interested in, I recommend visiting the company\\'s website or job portal where the position is listed. Look for an \"Apply Now\" or \"Job Application\" button/link, and click it to start the application process. Follow the instructions provided on the application form, and make sure to provide all the required information, such as your name, contact details, work experience, and any other relevant information requested.\\n\\nAfter you have completed and submitted your application, most companies will send a confirmation email to acknowledge receipt of your application. This email typically contains information about the next steps in the hiring process or a timeline for when you can expect to hear back from them.\\n\\nIf you don\\'t receive a confirmation email within a reasonable timeframe, you may want to consider reaching out to the company\\'s HR department or the contact provided in the job posting to inquire about the status of your application.\\n\\nRemember, each company may have its own specific application process, so it\\'s important to carefully review the instructions provided by the company and tailor your application accordingly.\\n\\nI wish you the best of luck with your job application!'},\n",
              " {'role': 'user',\n",
              "  'content': '\\nThis is Jane Harris. I am an graduate who want to find job at Deutsche Bank.\\nFirst, I neeed to know the avaialble Analyst position in Cary\\nThen I want to submit job application to the position you found. \\nPlease give me a confirmation after all of these are done.\\n'},\n",
              " {'role': 'assistant',\n",
              "  'content': 'I have found two available Analyst positions at Deutsche Bank in Cary:\\n\\n1. Java Developer - Analyst: [Link to Job Description](https://careers.db.com/professionals/search-roles/#/professional/job/39696)\\n\\n2. Java Engineer - Analyst: [Link to Job Description](https://careers.db.com/professionals/search-roles/#/professional/job/39724)\\n\\nTo apply for these positions, you can visit the links provided and review the job descriptions. If you find a position that matches your qualifications and interests, you can typically find an \"Apply Now\" or similar button on the page. Clicking this button will usually take you to an application form where you can input your information, upload your resume, and submit your application.\\n\\nIt\\'s important to review the job requirements and tailor your application accordingly, highlighting relevant skills and experiences that make you a strong fit for the role. After submitting your application, you should receive a confirmation email indicating that your application has been received. \\n\\nPlease note that I am an AI language model and cannot directly confirm your application submission. However, you should receive a confirmation email from Deutsche Bank once your application is submitted successfully. Be sure to check your email and keep an eye on your spam or junk folder, in case the confirmation email gets filtered there.\\n\\nI wish you the best of luck with your job application to Deutsche Bank!'},\n",
              " {'role': 'user',\n",
              "  'content': '\\nThen I want to submit job application to the position you found. \\nPlease give me a confirmation after all of these are done.\\n'},\n",
              " {'role': 'assistant',\n",
              "  'content': \"I apologize for any confusion caused. However, as an AI language model, I don't have the capability to directly submit job applications or confirm actions in the physical world. My purpose is to provide information and assistance through text-based conversations.\\n\\nTo apply for the position you found at Deutsche Bank, you should follow the steps outlined on their website or application platform. Typically, you will need to fill out an online application form, providing your personal details, work experience, and any other required information. You may also be asked to upload your resume and cover letter.\\n\\nOnce you have completed and submitted your application, Deutsche Bank should send you a confirmation email to acknowledge receipt of your application. This confirmation email usually contains information about the next steps in the hiring process or a timeline for when you can expect to hear back from them.\\n\\nIf you don't receive a confirmation email within a reasonable timeframe, you can consider reaching out to Deutsche Bank's HR department or the contact provided in the job posting to inquire about the status of your application.\\n\\nPlease note that each company's application process may vary, so it's important to carefully review the instructions provided by Deutsche Bank and follow their specific application process.\\n\\nI wish you success with your job application to Deutsche Bank!\"}]"
            ]
          },
          "metadata": {},
          "execution_count": 115
        }
      ]
    },
    {
      "cell_type": "code",
      "source": [
        "print(output.choices[0])"
      ],
      "metadata": {
        "colab": {
          "base_uri": "https://localhost:8080/"
        },
        "id": "1ZNl-lBNzN98",
        "outputId": "60090f14-c394-4e49-d08c-43cdd3c5ed06"
      },
      "execution_count": 114,
      "outputs": [
        {
          "output_type": "stream",
          "name": "stdout",
          "text": [
            "{\n",
            "  \"index\": 0,\n",
            "  \"message\": {\n",
            "    \"role\": \"assistant\",\n",
            "    \"content\": \"I apologize for any confusion caused. However, as an AI language model, I don't have the capability to directly submit job applications or confirm actions in the physical world. My purpose is to provide information and assistance through text-based conversations.\\n\\nTo apply for the position you found at Deutsche Bank, you should follow the steps outlined on their website or application platform. Typically, you will need to fill out an online application form, providing your personal details, work experience, and any other required information. You may also be asked to upload your resume and cover letter.\\n\\nOnce you have completed and submitted your application, Deutsche Bank should send you a confirmation email to acknowledge receipt of your application. This confirmation email usually contains information about the next steps in the hiring process or a timeline for when you can expect to hear back from them.\\n\\nIf you don't receive a confirmation email within a reasonable timeframe, you can consider reaching out to Deutsche Bank's HR department or the contact provided in the job posting to inquire about the status of your application.\\n\\nPlease note that each company's application process may vary, so it's important to carefully review the instructions provided by Deutsche Bank and follow their specific application process.\\n\\nI wish you success with your job application to Deutsche Bank!\"\n",
            "  },\n",
            "  \"finish_reason\": \"stop\"\n",
            "}\n"
          ]
        }
      ]
    },
    {
      "cell_type": "code",
      "source": [
        "print(output.choices[0].message)"
      ],
      "metadata": {
        "colab": {
          "base_uri": "https://localhost:8080/"
        },
        "id": "DUaBIlkRxh_o",
        "outputId": "793c0b37-b1ff-49f7-8a50-26292547a93b"
      },
      "execution_count": 102,
      "outputs": [
        {
          "output_type": "stream",
          "name": "stdout",
          "text": [
            "{\n",
            "  \"role\": \"assistant\",\n",
            "  \"content\": \"I apologize for any confusion, but as an AI language model, I don't have direct access to real-time job information or the ability to submit job applications on your behalf. My previous response was based on information available at the time of training.\\n\\nTo find the most up-to-date information on available positions at Deutsche Bank in Cary, I recommend visiting the Deutsche Bank careers website. There, you can search for analyst positions in Cary and apply directly through the website. Once you have submitted your application, you should receive a confirmation email from Deutsche Bank.\\n\\nIt's important to note that the availability of specific positions may change over time, so I recommend regularly checking the careers website for the latest updates. Best of luck with your job search!\"\n",
            "}\n"
          ]
        }
      ]
    }
  ]
}